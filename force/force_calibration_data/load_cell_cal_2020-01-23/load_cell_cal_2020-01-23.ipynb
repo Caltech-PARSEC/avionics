{
 "cells": [
  {
   "cell_type": "code",
   "execution_count": 12,
   "metadata": {},
   "outputs": [],
   "source": [
    "import numpy as np\n",
    "import pandas as pd\n",
    "from scipy.stats import linregress"
   ]
  },
  {
   "cell_type": "code",
   "execution_count": 2,
   "metadata": {},
   "outputs": [],
   "source": [
    "allData = pd.read_csv(\"load_cell_cal_2020-01-23.csv\")\n",
    "\n",
    "# The gain of the amplifier on port 1 seemed far too low,\n",
    "# so exclude if from the good data.\n",
    "goodData = allData[allData[\"Port No.\"] != 1]"
   ]
  },
  {
   "cell_type": "code",
   "execution_count": 3,
   "metadata": {},
   "outputs": [
    {
     "data": {
      "text/plain": [
       "Index(['Load Cell S/N', 'Port No.', 'Direction', 'Force (lbs)', 'ADC Conv.'], dtype='object')"
      ]
     },
     "execution_count": 3,
     "metadata": {},
     "output_type": "execute_result"
    }
   ],
   "source": [
    "allData.columns"
   ]
  },
  {
   "cell_type": "code",
   "execution_count": 4,
   "metadata": {},
   "outputs": [
    {
     "data": {
      "text/plain": [
       "{1818000254, 1818000259, 1818000262}"
      ]
     },
     "execution_count": 4,
     "metadata": {},
     "output_type": "execute_result"
    }
   ],
   "source": [
    "set(allData[\"Load Cell S/N\"])"
   ]
  },
  {
   "cell_type": "code",
   "execution_count": 10,
   "metadata": {},
   "outputs": [
    {
     "data": {
      "text/html": [
       "<div>\n",
       "<style scoped>\n",
       "    .dataframe tbody tr th:only-of-type {\n",
       "        vertical-align: middle;\n",
       "    }\n",
       "\n",
       "    .dataframe tbody tr th {\n",
       "        vertical-align: top;\n",
       "    }\n",
       "\n",
       "    .dataframe thead th {\n",
       "        text-align: right;\n",
       "    }\n",
       "</style>\n",
       "<table border=\"1\" class=\"dataframe\">\n",
       "  <thead>\n",
       "    <tr style=\"text-align: right;\">\n",
       "      <th></th>\n",
       "      <th>Load Cell S/N</th>\n",
       "      <th>Port No.</th>\n",
       "      <th>Direction</th>\n",
       "      <th>Force (lbs)</th>\n",
       "      <th>ADC Conv.</th>\n",
       "    </tr>\n",
       "  </thead>\n",
       "  <tbody>\n",
       "    <tr>\n",
       "      <th>4</th>\n",
       "      <td>1818000254</td>\n",
       "      <td>3</td>\n",
       "      <td>NaN</td>\n",
       "      <td>0</td>\n",
       "      <td>2031</td>\n",
       "    </tr>\n",
       "    <tr>\n",
       "      <th>7</th>\n",
       "      <td>1818000254</td>\n",
       "      <td>3</td>\n",
       "      <td>Tension</td>\n",
       "      <td>50</td>\n",
       "      <td>2192</td>\n",
       "    </tr>\n",
       "    <tr>\n",
       "      <th>10</th>\n",
       "      <td>1818000254</td>\n",
       "      <td>3</td>\n",
       "      <td>Tension</td>\n",
       "      <td>100</td>\n",
       "      <td>2367</td>\n",
       "    </tr>\n",
       "    <tr>\n",
       "      <th>12</th>\n",
       "      <td>1818000254</td>\n",
       "      <td>3</td>\n",
       "      <td>Tension</td>\n",
       "      <td>150</td>\n",
       "      <td>2544</td>\n",
       "    </tr>\n",
       "  </tbody>\n",
       "</table>\n",
       "</div>"
      ],
      "text/plain": [
       "    Load Cell S/N  Port No. Direction  Force (lbs)  ADC Conv.\n",
       "4      1818000254         3       NaN            0       2031\n",
       "7      1818000254         3   Tension           50       2192\n",
       "10     1818000254         3   Tension          100       2367\n",
       "12     1818000254         3   Tension          150       2544"
      ]
     },
     "execution_count": 10,
     "metadata": {},
     "output_type": "execute_result"
    }
   ],
   "source": [
    "tension254 = goodData[(goodData[\"Load Cell S/N\"] == 1818000254)\n",
    "                    & (goodData[\"Direction\"] != \"Compression\")\n",
    "                    & (goodData[\"Port No.\"] == 3)]\n",
    "tension254"
   ]
  },
  {
   "cell_type": "code",
   "execution_count": 15,
   "metadata": {},
   "outputs": [
    {
     "data": {
      "text/plain": [
       "LinregressResult(slope=3.428, intercept=2026.4, rvalue=0.9997577295137002, pvalue=0.00024227048629976713, stderr=0.05336665625650154)"
      ]
     },
     "execution_count": 15,
     "metadata": {},
     "output_type": "execute_result"
    }
   ],
   "source": [
    "linregress(tension254[\"Force (lbs)\"], tension254[\"ADC Conv.\"])"
   ]
  },
  {
   "cell_type": "code",
   "execution_count": 18,
   "metadata": {},
   "outputs": [
    {
     "data": {
      "text/html": [
       "<div>\n",
       "<style scoped>\n",
       "    .dataframe tbody tr th:only-of-type {\n",
       "        vertical-align: middle;\n",
       "    }\n",
       "\n",
       "    .dataframe tbody tr th {\n",
       "        vertical-align: top;\n",
       "    }\n",
       "\n",
       "    .dataframe thead th {\n",
       "        text-align: right;\n",
       "    }\n",
       "</style>\n",
       "<table border=\"1\" class=\"dataframe\">\n",
       "  <thead>\n",
       "    <tr style=\"text-align: right;\">\n",
       "      <th></th>\n",
       "      <th>Load Cell S/N</th>\n",
       "      <th>Port No.</th>\n",
       "      <th>Direction</th>\n",
       "      <th>Force (lbs)</th>\n",
       "      <th>ADC Conv.</th>\n",
       "    </tr>\n",
       "  </thead>\n",
       "  <tbody>\n",
       "    <tr>\n",
       "      <th>5</th>\n",
       "      <td>1818000259</td>\n",
       "      <td>2</td>\n",
       "      <td>NaN</td>\n",
       "      <td>0</td>\n",
       "      <td>2030</td>\n",
       "    </tr>\n",
       "    <tr>\n",
       "      <th>8</th>\n",
       "      <td>1818000259</td>\n",
       "      <td>2</td>\n",
       "      <td>Tension</td>\n",
       "      <td>50</td>\n",
       "      <td>2202</td>\n",
       "    </tr>\n",
       "    <tr>\n",
       "      <th>11</th>\n",
       "      <td>1818000259</td>\n",
       "      <td>2</td>\n",
       "      <td>Tension</td>\n",
       "      <td>100</td>\n",
       "      <td>2378</td>\n",
       "    </tr>\n",
       "    <tr>\n",
       "      <th>13</th>\n",
       "      <td>1818000259</td>\n",
       "      <td>2</td>\n",
       "      <td>Tension</td>\n",
       "      <td>150</td>\n",
       "      <td>2532</td>\n",
       "    </tr>\n",
       "  </tbody>\n",
       "</table>\n",
       "</div>"
      ],
      "text/plain": [
       "    Load Cell S/N  Port No. Direction  Force (lbs)  ADC Conv.\n",
       "5      1818000259         2       NaN            0       2030\n",
       "8      1818000259         2   Tension           50       2202\n",
       "11     1818000259         2   Tension          100       2378\n",
       "13     1818000259         2   Tension          150       2532"
      ]
     },
     "execution_count": 18,
     "metadata": {},
     "output_type": "execute_result"
    }
   ],
   "source": [
    "tension259 = goodData[(goodData[\"Load Cell S/N\"] == 1818000259) \n",
    "                    & (goodData[\"Direction\"] != \"Compression\")\n",
    "                    & (goodData[\"Port No.\"] == 2)]\n",
    "tension259"
   ]
  },
  {
   "cell_type": "code",
   "execution_count": 19,
   "metadata": {},
   "outputs": [
    {
     "data": {
      "text/plain": [
       "LinregressResult(slope=3.364, intercept=2033.2, rvalue=0.9995944675029271, pvalue=0.00040553249707286904, stderr=0.06776429738439169)"
      ]
     },
     "execution_count": 19,
     "metadata": {},
     "output_type": "execute_result"
    }
   ],
   "source": [
    "linregress(tension259[\"Force (lbs)\"], tension259[\"ADC Conv.\"])"
   ]
  },
  {
   "cell_type": "code",
   "execution_count": 21,
   "metadata": {},
   "outputs": [
    {
     "data": {
      "text/html": [
       "<div>\n",
       "<style scoped>\n",
       "    .dataframe tbody tr th:only-of-type {\n",
       "        vertical-align: middle;\n",
       "    }\n",
       "\n",
       "    .dataframe tbody tr th {\n",
       "        vertical-align: top;\n",
       "    }\n",
       "\n",
       "    .dataframe thead th {\n",
       "        text-align: right;\n",
       "    }\n",
       "</style>\n",
       "<table border=\"1\" class=\"dataframe\">\n",
       "  <thead>\n",
       "    <tr style=\"text-align: right;\">\n",
       "      <th></th>\n",
       "      <th>Load Cell S/N</th>\n",
       "      <th>Port No.</th>\n",
       "      <th>Direction</th>\n",
       "      <th>Force (lbs)</th>\n",
       "      <th>ADC Conv.</th>\n",
       "    </tr>\n",
       "  </thead>\n",
       "  <tbody>\n",
       "    <tr>\n",
       "      <th>1</th>\n",
       "      <td>1818000254</td>\n",
       "      <td>2</td>\n",
       "      <td>NaN</td>\n",
       "      <td>0</td>\n",
       "      <td>2018</td>\n",
       "    </tr>\n",
       "    <tr>\n",
       "      <th>2</th>\n",
       "      <td>1818000259</td>\n",
       "      <td>3</td>\n",
       "      <td>NaN</td>\n",
       "      <td>0</td>\n",
       "      <td>2041</td>\n",
       "    </tr>\n",
       "    <tr>\n",
       "      <th>4</th>\n",
       "      <td>1818000254</td>\n",
       "      <td>3</td>\n",
       "      <td>NaN</td>\n",
       "      <td>0</td>\n",
       "      <td>2031</td>\n",
       "    </tr>\n",
       "    <tr>\n",
       "      <th>5</th>\n",
       "      <td>1818000259</td>\n",
       "      <td>2</td>\n",
       "      <td>NaN</td>\n",
       "      <td>0</td>\n",
       "      <td>2030</td>\n",
       "    </tr>\n",
       "    <tr>\n",
       "      <th>17</th>\n",
       "      <td>1818000262</td>\n",
       "      <td>2</td>\n",
       "      <td>Compression</td>\n",
       "      <td>45</td>\n",
       "      <td>1959</td>\n",
       "    </tr>\n",
       "    <tr>\n",
       "      <th>18</th>\n",
       "      <td>1818000262</td>\n",
       "      <td>2</td>\n",
       "      <td>Compression</td>\n",
       "      <td>90</td>\n",
       "      <td>1959</td>\n",
       "    </tr>\n",
       "    <tr>\n",
       "      <th>19</th>\n",
       "      <td>1818000254</td>\n",
       "      <td>3</td>\n",
       "      <td>Compression</td>\n",
       "      <td>90</td>\n",
       "      <td>1965</td>\n",
       "    </tr>\n",
       "    <tr>\n",
       "      <th>20</th>\n",
       "      <td>1818000254</td>\n",
       "      <td>3</td>\n",
       "      <td>Compression</td>\n",
       "      <td>45</td>\n",
       "      <td>1963</td>\n",
       "    </tr>\n",
       "  </tbody>\n",
       "</table>\n",
       "</div>"
      ],
      "text/plain": [
       "    Load Cell S/N  Port No.    Direction  Force (lbs)  ADC Conv.\n",
       "1      1818000254         2          NaN            0       2018\n",
       "2      1818000259         3          NaN            0       2041\n",
       "4      1818000254         3          NaN            0       2031\n",
       "5      1818000259         2          NaN            0       2030\n",
       "17     1818000262         2  Compression           45       1959\n",
       "18     1818000262         2  Compression           90       1959\n",
       "19     1818000254         3  Compression           90       1965\n",
       "20     1818000254         3  Compression           45       1963"
      ]
     },
     "execution_count": 21,
     "metadata": {},
     "output_type": "execute_result"
    }
   ],
   "source": [
    "goodData[goodData[\"Direction\"] != \"Tension\"]"
   ]
  },
  {
   "cell_type": "code",
   "execution_count": null,
   "metadata": {},
   "outputs": [],
   "source": []
  }
 ],
 "metadata": {
  "kernelspec": {
   "display_name": "Python 3",
   "language": "python",
   "name": "python3"
  },
  "language_info": {
   "codemirror_mode": {
    "name": "ipython",
    "version": 3
   },
   "file_extension": ".py",
   "mimetype": "text/x-python",
   "name": "python",
   "nbconvert_exporter": "python",
   "pygments_lexer": "ipython3",
   "version": "3.7.4"
  }
 },
 "nbformat": 4,
 "nbformat_minor": 4
}

{
 "cells": [
  {
   "cell_type": "markdown",
   "metadata": {},
   "source": [
    "# Force Board Calibration\n",
    "\n",
    "The data for this calibration were taken on 25 January 2020. Both tension and compression measurements for 1000 pound Anyload 101NSGS 350 ohm wheatstone bridge load cell. Each power amplifier seems to have a slightly different offset independent of the load cell used (compare the linear fit data from data254, data254Port1, and data262), but the gain (or slope) seems to be more strongly correlated with the load cell used. Thus, the calibration data processed in this notebook works for the following port-to-transducer pairings:\n",
    "* Port 1 - Transducer 1818000262\n",
    "* Port 2 - Transducer 1818000254\n",
    "* Port 3 - Transducer 1818000259\n",
    "\n",
    "The csv with the same file name contains calibration data for PARSEC's load \n",
    "cells, as driven by the following hardware and software:\n",
    "\n",
    "* 10 V rail from a LM317 linear regulator, outputting 10.20 V when under\n",
    "  load from all three load cells (each is a 350 ohm wheatstone bridge).\n",
    "  It's input was +-12 V from an ATX power supply.\n",
    "\n",
    "* The forse [sic] sensor board designed in 2018 by Christine Yu and\n",
    "  Alexi Garcia. It is based on an STM32F446VE microcontroller with\n",
    "  12 bit ADCs. The load cell exitation is scaled to 3.3 V by an\n",
    "  INA-125 instrumentation amplifier.\n",
    "\n",
    "* Dumbells from the Caltech gym were used to apply known amounts of force.\n",
    "\n",
    "* Tension measurements were performed by tying a loop around a pullup\n",
    "  bar and hooking the load cell into it, and made a loop to hang from the\n",
    "  other end of the load cell to hang dumbells from. The dumbells used for\n",
    "  bicep curls were used.\n",
    "\n",
    "* Compression measurements were performed by trying to place dumbells\n",
    "  on top of the load cell sitting on the ground. Getting it to balance\n",
    "  with any type of dumbell was difficult.\n",
    "  \n",
    "* ADC conversion values were obtained by triggering ADC conversions on\n",
    "  loop, each value being the average of 2048 samples taken 1 ms apart.\n",
    "\n",
    "These measurements were taken after a round of debugging on the force board\n",
    "in which a cold solder joint was fixed on PA1, and a -12 V rail was run to the\n",
    "negative supply pins on all INA-125 chips, fixing the non-linearity and\n",
    "inability to amplify negative voltage (compression) signals properly.\n"
   ]
  },
  {
   "cell_type": "code",
   "execution_count": 1,
   "metadata": {},
   "outputs": [],
   "source": [
    "import numpy as np\n",
    "import pandas as pd\n",
    "from scipy.stats import linregress"
   ]
  },
  {
   "cell_type": "code",
   "execution_count": 90,
   "metadata": {},
   "outputs": [],
   "source": [
    "allData = pd.read_csv(\"load_cell_cal_2020-01-25.csv\")"
   ]
  },
  {
   "cell_type": "code",
   "execution_count": 37,
   "metadata": {},
   "outputs": [
    {
     "data": {
      "text/html": [
       "<div>\n",
       "<style scoped>\n",
       "    .dataframe tbody tr th:only-of-type {\n",
       "        vertical-align: middle;\n",
       "    }\n",
       "\n",
       "    .dataframe tbody tr th {\n",
       "        vertical-align: top;\n",
       "    }\n",
       "\n",
       "    .dataframe thead th {\n",
       "        text-align: right;\n",
       "    }\n",
       "</style>\n",
       "<table border=\"1\" class=\"dataframe\">\n",
       "  <thead>\n",
       "    <tr style=\"text-align: right;\">\n",
       "      <th></th>\n",
       "      <th>Load Cell S/N</th>\n",
       "      <th>Port No.</th>\n",
       "      <th>Direction</th>\n",
       "      <th>Force (lbs)</th>\n",
       "      <th>ADC Conv.</th>\n",
       "      <th>Voltage (V)</th>\n",
       "    </tr>\n",
       "  </thead>\n",
       "  <tbody>\n",
       "    <tr>\n",
       "      <th>0</th>\n",
       "      <td>1818000262</td>\n",
       "      <td>1</td>\n",
       "      <td>NaN</td>\n",
       "      <td>0.0</td>\n",
       "      <td>2013</td>\n",
       "      <td>1.624</td>\n",
       "    </tr>\n",
       "    <tr>\n",
       "      <th>1</th>\n",
       "      <td>1818000254</td>\n",
       "      <td>2</td>\n",
       "      <td>NaN</td>\n",
       "      <td>0.0</td>\n",
       "      <td>2002</td>\n",
       "      <td>1.620</td>\n",
       "    </tr>\n",
       "    <tr>\n",
       "      <th>2</th>\n",
       "      <td>1818000259</td>\n",
       "      <td>3</td>\n",
       "      <td>NaN</td>\n",
       "      <td>0.0</td>\n",
       "      <td>2044</td>\n",
       "      <td>1.646</td>\n",
       "    </tr>\n",
       "    <tr>\n",
       "      <th>3</th>\n",
       "      <td>1818000262</td>\n",
       "      <td>1</td>\n",
       "      <td>Tension</td>\n",
       "      <td>-22.5</td>\n",
       "      <td>2107</td>\n",
       "      <td>1.690</td>\n",
       "    </tr>\n",
       "    <tr>\n",
       "      <th>4</th>\n",
       "      <td>1818000262</td>\n",
       "      <td>1</td>\n",
       "      <td>Tension</td>\n",
       "      <td>-32.5</td>\n",
       "      <td>2142</td>\n",
       "      <td>1.717</td>\n",
       "    </tr>\n",
       "    <tr>\n",
       "      <th>5</th>\n",
       "      <td>1818000262</td>\n",
       "      <td>1</td>\n",
       "      <td>Tension</td>\n",
       "      <td>-50.0</td>\n",
       "      <td>2205</td>\n",
       "      <td>1.769</td>\n",
       "    </tr>\n",
       "    <tr>\n",
       "      <th>6</th>\n",
       "      <td>1818000262</td>\n",
       "      <td>1</td>\n",
       "      <td>Tension</td>\n",
       "      <td>-75.0</td>\n",
       "      <td>2289</td>\n",
       "      <td>1.837</td>\n",
       "    </tr>\n",
       "    <tr>\n",
       "      <th>7</th>\n",
       "      <td>1818000262</td>\n",
       "      <td>1</td>\n",
       "      <td>Tension</td>\n",
       "      <td>-100.0</td>\n",
       "      <td>2369</td>\n",
       "      <td>1.902</td>\n",
       "    </tr>\n",
       "    <tr>\n",
       "      <th>8</th>\n",
       "      <td>1818000262</td>\n",
       "      <td>1</td>\n",
       "      <td>Tension</td>\n",
       "      <td>-150.0</td>\n",
       "      <td>2530</td>\n",
       "      <td>2.041</td>\n",
       "    </tr>\n",
       "    <tr>\n",
       "      <th>9</th>\n",
       "      <td>1818000262</td>\n",
       "      <td>1</td>\n",
       "      <td>Compression</td>\n",
       "      <td>22.5</td>\n",
       "      <td>1945</td>\n",
       "      <td>1.561</td>\n",
       "    </tr>\n",
       "    <tr>\n",
       "      <th>10</th>\n",
       "      <td>1818000262</td>\n",
       "      <td>1</td>\n",
       "      <td>Compression</td>\n",
       "      <td>32.5</td>\n",
       "      <td>1911</td>\n",
       "      <td>1.534</td>\n",
       "    </tr>\n",
       "    <tr>\n",
       "      <th>11</th>\n",
       "      <td>1818000262</td>\n",
       "      <td>1</td>\n",
       "      <td>Compression</td>\n",
       "      <td>50.0</td>\n",
       "      <td>1847</td>\n",
       "      <td>1.482</td>\n",
       "    </tr>\n",
       "    <tr>\n",
       "      <th>12</th>\n",
       "      <td>1818000262</td>\n",
       "      <td>1</td>\n",
       "      <td>Compression</td>\n",
       "      <td>75.0</td>\n",
       "      <td>1756</td>\n",
       "      <td>1.415</td>\n",
       "    </tr>\n",
       "    <tr>\n",
       "      <th>13</th>\n",
       "      <td>1818000262</td>\n",
       "      <td>1</td>\n",
       "      <td>Compression</td>\n",
       "      <td>100.0</td>\n",
       "      <td>1678</td>\n",
       "      <td>1.348</td>\n",
       "    </tr>\n",
       "    <tr>\n",
       "      <th>14</th>\n",
       "      <td>1818000254</td>\n",
       "      <td>2</td>\n",
       "      <td>Compression</td>\n",
       "      <td>22.5</td>\n",
       "      <td>1923</td>\n",
       "      <td>NaN</td>\n",
       "    </tr>\n",
       "    <tr>\n",
       "      <th>15</th>\n",
       "      <td>1818000254</td>\n",
       "      <td>2</td>\n",
       "      <td>Compression</td>\n",
       "      <td>32.5</td>\n",
       "      <td>1900</td>\n",
       "      <td>NaN</td>\n",
       "    </tr>\n",
       "    <tr>\n",
       "      <th>16</th>\n",
       "      <td>1818000254</td>\n",
       "      <td>2</td>\n",
       "      <td>Compression</td>\n",
       "      <td>50.0</td>\n",
       "      <td>1827</td>\n",
       "      <td>NaN</td>\n",
       "    </tr>\n",
       "    <tr>\n",
       "      <th>17</th>\n",
       "      <td>1818000254</td>\n",
       "      <td>2</td>\n",
       "      <td>Compression</td>\n",
       "      <td>75.0</td>\n",
       "      <td>1749</td>\n",
       "      <td>NaN</td>\n",
       "    </tr>\n",
       "    <tr>\n",
       "      <th>18</th>\n",
       "      <td>1818000254</td>\n",
       "      <td>2</td>\n",
       "      <td>Compression</td>\n",
       "      <td>100.0</td>\n",
       "      <td>1661</td>\n",
       "      <td>NaN</td>\n",
       "    </tr>\n",
       "    <tr>\n",
       "      <th>19</th>\n",
       "      <td>1818000259</td>\n",
       "      <td>3</td>\n",
       "      <td>Compression</td>\n",
       "      <td>22.5</td>\n",
       "      <td>1963</td>\n",
       "      <td>NaN</td>\n",
       "    </tr>\n",
       "    <tr>\n",
       "      <th>20</th>\n",
       "      <td>1818000259</td>\n",
       "      <td>3</td>\n",
       "      <td>Compression</td>\n",
       "      <td>32.5</td>\n",
       "      <td>1921</td>\n",
       "      <td>NaN</td>\n",
       "    </tr>\n",
       "    <tr>\n",
       "      <th>21</th>\n",
       "      <td>1818000259</td>\n",
       "      <td>3</td>\n",
       "      <td>Compression</td>\n",
       "      <td>50.0</td>\n",
       "      <td>1869</td>\n",
       "      <td>NaN</td>\n",
       "    </tr>\n",
       "    <tr>\n",
       "      <th>22</th>\n",
       "      <td>1818000259</td>\n",
       "      <td>3</td>\n",
       "      <td>Compression</td>\n",
       "      <td>75.0</td>\n",
       "      <td>1774</td>\n",
       "      <td>NaN</td>\n",
       "    </tr>\n",
       "    <tr>\n",
       "      <th>23</th>\n",
       "      <td>1818000259</td>\n",
       "      <td>3</td>\n",
       "      <td>Compression</td>\n",
       "      <td>100.0</td>\n",
       "      <td>1687</td>\n",
       "      <td>NaN</td>\n",
       "    </tr>\n",
       "    <tr>\n",
       "      <th>24</th>\n",
       "      <td>1818000254</td>\n",
       "      <td>1</td>\n",
       "      <td>Compression</td>\n",
       "      <td>22.5</td>\n",
       "      <td>1918</td>\n",
       "      <td>NaN</td>\n",
       "    </tr>\n",
       "    <tr>\n",
       "      <th>25</th>\n",
       "      <td>1818000254</td>\n",
       "      <td>1</td>\n",
       "      <td>Compression</td>\n",
       "      <td>32.5</td>\n",
       "      <td>1893</td>\n",
       "      <td>1.519</td>\n",
       "    </tr>\n",
       "    <tr>\n",
       "      <th>26</th>\n",
       "      <td>1818000254</td>\n",
       "      <td>1</td>\n",
       "      <td>Compression</td>\n",
       "      <td>50.0</td>\n",
       "      <td>1828</td>\n",
       "      <td>1.467</td>\n",
       "    </tr>\n",
       "    <tr>\n",
       "      <th>27</th>\n",
       "      <td>1818000254</td>\n",
       "      <td>1</td>\n",
       "      <td>Compression</td>\n",
       "      <td>75.0</td>\n",
       "      <td>1737</td>\n",
       "      <td>1.400</td>\n",
       "    </tr>\n",
       "    <tr>\n",
       "      <th>28</th>\n",
       "      <td>1818000254</td>\n",
       "      <td>1</td>\n",
       "      <td>Compression</td>\n",
       "      <td>100.0</td>\n",
       "      <td>1659</td>\n",
       "      <td>1.331</td>\n",
       "    </tr>\n",
       "  </tbody>\n",
       "</table>\n",
       "</div>"
      ],
      "text/plain": [
       "    Load Cell S/N  Port No.    Direction  Force (lbs)  ADC Conv.  Voltage (V)\n",
       "0      1818000262         1          NaN          0.0       2013        1.624\n",
       "1      1818000254         2          NaN          0.0       2002        1.620\n",
       "2      1818000259         3          NaN          0.0       2044        1.646\n",
       "3      1818000262         1      Tension        -22.5       2107        1.690\n",
       "4      1818000262         1      Tension        -32.5       2142        1.717\n",
       "5      1818000262         1      Tension        -50.0       2205        1.769\n",
       "6      1818000262         1      Tension        -75.0       2289        1.837\n",
       "7      1818000262         1      Tension       -100.0       2369        1.902\n",
       "8      1818000262         1      Tension       -150.0       2530        2.041\n",
       "9      1818000262         1  Compression         22.5       1945        1.561\n",
       "10     1818000262         1  Compression         32.5       1911        1.534\n",
       "11     1818000262         1  Compression         50.0       1847        1.482\n",
       "12     1818000262         1  Compression         75.0       1756        1.415\n",
       "13     1818000262         1  Compression        100.0       1678        1.348\n",
       "14     1818000254         2  Compression         22.5       1923          NaN\n",
       "15     1818000254         2  Compression         32.5       1900          NaN\n",
       "16     1818000254         2  Compression         50.0       1827          NaN\n",
       "17     1818000254         2  Compression         75.0       1749          NaN\n",
       "18     1818000254         2  Compression        100.0       1661          NaN\n",
       "19     1818000259         3  Compression         22.5       1963          NaN\n",
       "20     1818000259         3  Compression         32.5       1921          NaN\n",
       "21     1818000259         3  Compression         50.0       1869          NaN\n",
       "22     1818000259         3  Compression         75.0       1774          NaN\n",
       "23     1818000259         3  Compression        100.0       1687          NaN\n",
       "24     1818000254         1  Compression         22.5       1918          NaN\n",
       "25     1818000254         1  Compression         32.5       1893        1.519\n",
       "26     1818000254         1  Compression         50.0       1828        1.467\n",
       "27     1818000254         1  Compression         75.0       1737        1.400\n",
       "28     1818000254         1  Compression        100.0       1659        1.331"
      ]
     },
     "execution_count": 37,
     "metadata": {},
     "output_type": "execute_result"
    }
   ],
   "source": [
    "# Tension loads will be indicated by negative force.\n",
    "signedData = allData\n",
    "tensionSign = (allData[\"Direction\"] == \"Tension\")\n",
    "tensionSign[tensionSign == 1] = -1\n",
    "tensionSign[tensionSign == 0] = 1\n",
    "signedData[\"Force (lbs)\"] *= tensionSign\n",
    "signedData"
   ]
  },
  {
   "cell_type": "code",
   "execution_count": 22,
   "metadata": {},
   "outputs": [
    {
     "data": {
      "text/plain": [
       "Index(['Load Cell S/N', 'Port No.', 'Direction', 'Force (lbs)', 'ADC Conv.',\n",
       "       'Voltage (V)'],\n",
       "      dtype='object')"
      ]
     },
     "execution_count": 22,
     "metadata": {},
     "output_type": "execute_result"
    }
   ],
   "source": [
    "allData.columns"
   ]
  },
  {
   "cell_type": "code",
   "execution_count": 23,
   "metadata": {},
   "outputs": [
    {
     "data": {
      "text/plain": [
       "{1818000254, 1818000259, 1818000262}"
      ]
     },
     "execution_count": 23,
     "metadata": {},
     "output_type": "execute_result"
    }
   ],
   "source": [
    "set(allData[\"Load Cell S/N\"])"
   ]
  },
  {
   "cell_type": "code",
   "execution_count": 87,
   "metadata": {},
   "outputs": [],
   "source": [
    "data262 = signedData[(signedData[\"Load Cell S/N\"] == 1818000262) &\n",
    "                     (signedData[\"Port No.\"] == 1)]\n",
    "data254 = signedData[(signedData[\"Load Cell S/N\"] == 1818000254) &\n",
    "                     (signedData[\"Port No.\"] == 2)]\n",
    "data259 = signedData[(signedData[\"Load Cell S/N\"] == 1818000259) &\n",
    "                     (signedData[\"Port No.\"] == 3)]\n",
    "data254Port1 = signedData[(signedData[\"Load Cell S/N\"] == 1818000254) &\n",
    "                          (signedData[\"Port No.\"] == 1)]"
   ]
  },
  {
   "cell_type": "code",
   "execution_count": 73,
   "metadata": {},
   "outputs": [
    {
     "name": "stdout",
     "output_type": "stream",
     "text": [
      "Slope of lbs of force / ADC value: -0.2886338878297939\n",
      "y-intercept in lbs:                583.8176122563541\n",
      "R-value                            -0.9996432358110193\n"
     ]
    }
   ],
   "source": [
    "convToForce262 = linregress(data262[\"ADC Conv.\"], data262[\"Force (lbs)\"])\n",
    "print(f\"Slope of lbs of force / ADC value: {convToForce262.slope}\")\n",
    "print(f\"y-intercept in lbs:                {convToForce262.intercept}\")\n",
    "print(f\"R-value                            {convToForce262.rvalue}\")"
   ]
  },
  {
   "cell_type": "code",
   "execution_count": 84,
   "metadata": {},
   "outputs": [
    {
     "name": "stdout",
     "output_type": "stream",
     "text": [
      "Slope of lbs of force / ADC value: -0.2927559089141425\n",
      "y-intercept in lbs:                586.410977401374\n",
      "R-value                            -0.9993061083750274\n"
     ]
    }
   ],
   "source": [
    "convToForce254 = linregress(data254[\"ADC Conv.\"], data254[\"Force (lbs)\"])\n",
    "print(f\"Slope of lbs of force / ADC value: {convToForce254.slope}\")\n",
    "print(f\"y-intercept in lbs:                {convToForce254.intercept}\")\n",
    "print(f\"R-value                            {convToForce254.rvalue}\")"
   ]
  },
  {
   "cell_type": "code",
   "execution_count": 89,
   "metadata": {},
   "outputs": [
    {
     "name": "stdout",
     "output_type": "stream",
     "text": [
      "Slope of lbs of force / ADC value: -0.2918849282398535\n",
      "y-intercept in lbs:                583.4360653294153\n",
      "R-value                            -0.9991902715270793\n"
     ]
    }
   ],
   "source": [
    "convToForce254Port1 = linregress(data254Port1[\"ADC Conv.\"], data254Port1[\"Force (lbs)\"])\n",
    "print(f\"Slope of lbs of force / ADC value: {convToForce254Port1.slope}\")\n",
    "print(f\"y-intercept in lbs:                {convToForce254Port1.intercept}\")\n",
    "print(f\"R-value                            {convToForce254Port1.rvalue}\")"
   ]
  },
  {
   "cell_type": "code",
   "execution_count": 85,
   "metadata": {},
   "outputs": [
    {
     "name": "stdout",
     "output_type": "stream",
     "text": [
      "Slope of lbs of force / ADC value: -0.28066387801916076\n",
      "y-intercept in lbs:                573.2856564566185\n",
      "R-value                            -0.9996487603043891\n"
     ]
    }
   ],
   "source": [
    "convToForce259 = linregress(data259[\"ADC Conv.\"], data259[\"Force (lbs)\"])\n",
    "print(f\"Slope of lbs of force / ADC value: {convToForce259.slope}\")\n",
    "print(f\"y-intercept in lbs:                {convToForce259.intercept}\")\n",
    "print(f\"R-value                            {convToForce259.rvalue}\")"
   ]
  },
  {
   "cell_type": "code",
   "execution_count": 74,
   "metadata": {},
   "outputs": [
    {
     "name": "stdout",
     "output_type": "stream",
     "text": [
      "Slope lbs of force / volt: -358.3738305752394\n",
      "y-intercept in lbs:        582.4005587548974\n",
      "R-value                    -0.9999314913057383\n"
     ]
    }
   ],
   "source": [
    "voltToForce = linregress(data262[\"Voltage (V)\"], data262[\"Force (lbs)\"])\n",
    "print(f\"Slope lbs of force / volt: {voltToForce.slope}\")\n",
    "print(f\"y-intercept in lbs:        {voltToForce.intercept}\")\n",
    "print(f\"R-value                    {voltToForce.rvalue}\")"
   ]
  },
  {
   "cell_type": "code",
   "execution_count": 75,
   "metadata": {},
   "outputs": [
    {
     "name": "stdout",
     "output_type": "stream",
     "text": [
      "Slope ADC value / volt:   1241.0331613538572\n",
      "y-intercept in ADC value: 5.8849521525971795\n",
      "R-value                   0.9998149610957535\n"
     ]
    }
   ],
   "source": [
    "voltToConv = linregress(data262[\"Voltage (V)\"], data262[\"ADC Conv.\"])\n",
    "print(f\"Slope ADC value / volt:   {voltToConv.slope}\")\n",
    "print(f\"y-intercept in ADC value: {voltToConv.intercept}\")\n",
    "print(f\"R-value                   {voltToConv.rvalue}\")"
   ]
  },
  {
   "cell_type": "code",
   "execution_count": 48,
   "metadata": {},
   "outputs": [],
   "source": [
    "import matplotlib.pyplot as plt"
   ]
  },
  {
   "cell_type": "code",
   "execution_count": 62,
   "metadata": {},
   "outputs": [
    {
     "data": {
      "image/png": "[encoded data removed]",
      "text/plain": [
       "<Figure size 432x288 with 1 Axes>"
      ]
     },
     "metadata": {
      "needs_background": "light"
     },
     "output_type": "display_data"
    }
   ],
   "source": [
    "idealConv = np.linspace(0, 4095)\n",
    "idealForceConv = (idealConv * convToForce262.slope) + convToForce262.intercept\n",
    "\n",
    "plt.figure()\n",
    "plt.plot(data262['ADC Conv.'], data262['Force (lbs)'], \"kx\")\n",
    "plt.plot(idealConv, idealForceConv)\n",
    "plt.xlabel(\"ADC Conversion\")\n",
    "plt.ylabel(\"Pounds of compressive force\")\n",
    "plt.savefig(\"conv-force_plot.pdf\")\n",
    "plt.show()"
   ]
  },
  {
   "cell_type": "code",
   "execution_count": 76,
   "metadata": {},
   "outputs": [
    {
     "data": {
      "image/png": "[encoded data removed]",
      "text/plain": [
       "<Figure size 432x288 with 1 Axes>"
      ]
     },
     "metadata": {
      "needs_background": "light"
     },
     "output_type": "display_data"
    }
   ],
   "source": [
    "idealVoltage = np.linspace(0, 3.3)\n",
    "idealForceVolt = (idealVoltage * voltToForce.slope) + voltToForce.intercept\n",
    "\n",
    "plt.figure()\n",
    "plt.plot(data262['Voltage (V)'], data262['Force (lbs)'], \"kx\")\n",
    "plt.plot(idealVoltage, idealForceVolt)\n",
    "plt.xlabel(\"Voltage (V)\")\n",
    "plt.ylabel(\"Pounds of compressive force\")\n",
    "plt.savefig(\"volt-force_plot.pdf\")\n",
    "plt.show()"
   ]
  },
  {
   "cell_type": "code",
   "execution_count": 78,
   "metadata": {},
   "outputs": [
    {
     "data": {
      "image/png": "[encoded data removed]",
      "text/plain": [
       "<Figure size 432x288 with 1 Axes>"
      ]
     },
     "metadata": {
      "needs_background": "light"
     },
     "output_type": "display_data"
    }
   ],
   "source": [
    "# Graph ADC value vs. the actual voltage\n",
    "\n",
    "idealConvVolt = (idealVoltage * voltToConv.slope) + voltToConv.intercept\n",
    "\n",
    "plt.figure()\n",
    "plt.plot(data262['Voltage (V)'], data262['ADC Conv.'], \"kx\")\n",
    "plt.plot(idealVoltage, idealConvVolt)\n",
    "plt.xlabel(\"Voltage (V)\")\n",
    "plt.ylabel(\"ADC Conversion value\")\n",
    "plt.savefig(\"volt-force_plot.pdf\")\n",
    "plt.show()"
   ]
  }
 ],
 "metadata": {
  "kernelspec": {
   "display_name": "Python 3",
   "language": "python",
   "name": "python3"
  },
  "language_info": {
   "codemirror_mode": {
    "name": "ipython",
    "version": 3
   },
   "file_extension": ".py",
   "mimetype": "text/x-python",
   "name": "python",
   "nbconvert_exporter": "python",
   "pygments_lexer": "ipython3",
   "version": "3.7.4"
  }
 },
 "nbformat": 4,
 "nbformat_minor": 4
}
